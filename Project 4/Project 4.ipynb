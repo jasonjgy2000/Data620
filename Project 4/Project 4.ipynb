{
 "cells": [
  {
   "cell_type": "markdown",
   "metadata": {},
   "source": [
    "# Project 4\n"
   ]
  },
  {
   "cell_type": "markdown",
   "metadata": {},
   "source": [
    "## Exercise 4\n",
    "Using the movie review document classifier discussed in this chapter, generate a list of the 30 features that the classifier finds to be most informative. Can you explain why there particular features are informative. Do you find any of them surprising?"
   ]
  },
  {
   "cell_type": "code",
   "execution_count": 12,
   "metadata": {
    "collapsed": true
   },
   "outputs": [],
   "source": [
    "import nltk\n",
    "from nltk.corpus import movie_reviews\n",
    "import random"
   ]
  },
  {
   "cell_type": "code",
   "execution_count": 14,
   "metadata": {
    "collapsed": false
   },
   "outputs": [],
   "source": [
    "#  extracting the words from the movie review corpus \n",
    "all_words = nltk.FreqDist(w.lower() for w in movie_reviews.words())\n",
    "# using 2000 of the most frequent words in the corpus\n",
    "word_features = all_words.keys()[:2000]"
   ]
  },
  {
   "cell_type": "code",
   "execution_count": 15,
   "metadata": {
    "collapsed": true
   },
   "outputs": [],
   "source": [
    "# feature extractor - checks whether a listing of words is present in the supplied document \n",
    "def document_features(document):\n",
    "    document_words = set(document)\n",
    "    features = {}\n",
    "    for word in word_features:\n",
    "        features['contains(%s)' % word] = (word in document_words)\n",
    "    return features"
   ]
  },
  {
   "cell_type": "code",
   "execution_count": 23,
   "metadata": {
    "collapsed": true
   },
   "outputs": [],
   "source": [
    "# extracting the  categories and its -ve. +ve classification\n",
    "documents = [(list(movie_reviews.words(fileid)),category)\n",
    "             for category in movie_reviews.categories()\n",
    "             for fileid in movie_reviews.fileids(category)]"
   ]
  },
  {
   "cell_type": "code",
   "execution_count": 20,
   "metadata": {
    "collapsed": true
   },
   "outputs": [],
   "source": [
    "# creating the feature set\n",
    "featuresets = [(document_features(d),c) for (d,c) in documents]\n",
    "# shuffle the feature set listing before creating training and test set\n",
    "random.shuffle(featuresets)\n",
    "#  creating training and test set\n",
    "train_set,test_set = featuresets[100:], featuresets[:100]\n",
    "# training the NaiveBayesClassifier\n",
    "classifier = nltk.NaiveBayesClassifier.train(train_set)"
   ]
  },
  {
   "cell_type": "code",
   "execution_count": 21,
   "metadata": {
    "collapsed": false
   },
   "outputs": [
    {
     "name": "stdout",
     "output_type": "stream",
     "text": [
      "0.67\n"
     ]
    }
   ],
   "source": [
    "# check accuracy of our classifier\n",
    "print nltk.classify.accuracy(classifier,test_set)"
   ]
  },
  {
   "cell_type": "code",
   "execution_count": 22,
   "metadata": {
    "collapsed": false
   },
   "outputs": [
    {
     "name": "stdout",
     "output_type": "stream",
     "text": [
      "Most Informative Features\n",
      "          contains(sans) = True              neg : pos    =      9.1 : 1.0\n",
      "     contains(uplifting) = True              pos : neg    =      7.7 : 1.0\n",
      "    contains(mediocrity) = True              neg : pos    =      7.7 : 1.0\n",
      "  contains(effortlessly) = True              pos : neg    =      6.9 : 1.0\n",
      "        contains(fabric) = True              pos : neg    =      6.3 : 1.0\n",
      "     contains(dismissed) = True              pos : neg    =      6.3 : 1.0\n",
      "           contains(ugh) = True              neg : pos    =      5.8 : 1.0\n",
      "   contains(bruckheimer) = True              neg : pos    =      5.7 : 1.0\n",
      "        contains(bounce) = True              neg : pos    =      5.7 : 1.0\n",
      "         contains(wires) = True              neg : pos    =      5.7 : 1.0\n",
      "          contains(wits) = True              pos : neg    =      5.6 : 1.0\n",
      "   contains(overwhelmed) = True              pos : neg    =      5.6 : 1.0\n",
      "          contains(lang) = True              pos : neg    =      5.6 : 1.0\n",
      "        contains(doubts) = True              pos : neg    =      5.4 : 1.0\n",
      "       contains(topping) = True              pos : neg    =      5.0 : 1.0\n",
      "     contains(testament) = True              pos : neg    =      4.7 : 1.0\n",
      "          contains(hugo) = True              pos : neg    =      4.6 : 1.0\n",
      "   contains(understands) = True              pos : neg    =      4.4 : 1.0\n",
      "       contains(quicker) = True              neg : pos    =      4.4 : 1.0\n",
      "       contains(maxwell) = True              neg : pos    =      4.4 : 1.0\n",
      "         contains(locks) = True              neg : pos    =      4.4 : 1.0\n",
      "      contains(matheson) = True              pos : neg    =      4.3 : 1.0\n",
      "     contains(depravity) = True              pos : neg    =      4.3 : 1.0\n",
      "         contains(tripe) = True              neg : pos    =      4.2 : 1.0\n",
      "   contains(controversy) = True              pos : neg    =      4.2 : 1.0\n",
      "      contains(attorney) = True              pos : neg    =      3.9 : 1.0\n",
      "       contains(admired) = True              pos : neg    =      3.8 : 1.0\n",
      "          contains(sant) = True              pos : neg    =      3.8 : 1.0\n",
      "   contains(interviewed) = True              neg : pos    =      3.7 : 1.0\n",
      "           contains(wcw) = True              neg : pos    =      3.7 : 1.0\n"
     ]
    }
   ],
   "source": [
    "# print the 30 most informative featurers\n",
    "classifier.show_most_informative_features(30)"
   ]
  },
  {
   "cell_type": "markdown",
   "metadata": {},
   "source": [
    "# Conclusion\n",
    "\n",
    "1. Surprisingly Sans is the most informative feature. It means \"without\" and it's associated with mostly negative reviews.\n",
    "\n",
    "2. Uplifting being listed as one of the most informative feature isn't surprising, since it is used quite often to describe movies that builds one up.\n",
    "\n",
    "3. Mediocrity - Not surprising. Many critics would use \"Mediocrity\" to describe movies of a \"so so\" nature and rightfully it's associated with negative reviews. \n",
    "\n",
    "4. Ugh - Surprising. I guess critics are harsh because \"ugh\" was used quite frequently. \n"
   ]
  }
 ],
 "metadata": {
  "anaconda-cloud": {},
  "kernelspec": {
   "display_name": "Python [default]",
   "language": "python",
   "name": "python2"
  },
  "language_info": {
   "codemirror_mode": {
    "name": "ipython",
    "version": 2
   },
   "file_extension": ".py",
   "mimetype": "text/x-python",
   "name": "python",
   "nbconvert_exporter": "python",
   "pygments_lexer": "ipython2",
   "version": "2.7.12"
  }
 },
 "nbformat": 4,
 "nbformat_minor": 1
}
